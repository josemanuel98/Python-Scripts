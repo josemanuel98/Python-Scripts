{
 "cells": [
  {
   "cell_type": "code",
   "execution_count": 13,
   "metadata": {},
   "outputs": [
    {
     "name": "stdout",
     "output_type": "stream",
     "text": [
      "Requirement already satisfied: simpy in c:\\users\\josem\\anaconda3\\lib\\site-packages (4.0.1)\n"
     ]
    }
   ],
   "source": [
    "!pip install simpy"
   ]
  },
  {
   "cell_type": "code",
   "execution_count": 22,
   "metadata": {},
   "outputs": [],
   "source": [
    "import simpy"
   ]
  },
  {
   "cell_type": "code",
   "execution_count": 15,
   "metadata": {},
   "outputs": [],
   "source": [
    "def car(env):\n",
    "    while True:\n",
    "        print('Start parking at %d' % env.now)\n",
    "        parking_duration = 5\n",
    "        yield env.timeout(parking_duration)\n",
    "        \n",
    "        print('Start driving at %d' % env.now)\n",
    "        trip_duration = 2\n",
    "        yield env.timeout(trip_duration)"
   ]
  },
  {
   "cell_type": "code",
   "execution_count": 16,
   "metadata": {},
   "outputs": [],
   "source": [
    "env = simpy.Environment()"
   ]
  },
  {
   "cell_type": "code",
   "execution_count": 17,
   "metadata": {},
   "outputs": [
    {
     "data": {
      "text/plain": [
       "<Process(car) object at 0x231471e3ba8>"
      ]
     },
     "execution_count": 17,
     "metadata": {},
     "output_type": "execute_result"
    }
   ],
   "source": [
    "env.process(car(env))"
   ]
  },
  {
   "cell_type": "code",
   "execution_count": 18,
   "metadata": {},
   "outputs": [
    {
     "name": "stdout",
     "output_type": "stream",
     "text": [
      "Start parking at 0\n",
      "Start driving at 5\n",
      "Start parking at 7\n",
      "Start driving at 12\n",
      "Start parking at 14\n"
     ]
    }
   ],
   "source": [
    "env.run(until=15)"
   ]
  },
  {
   "cell_type": "code",
   "execution_count": 25,
   "metadata": {},
   "outputs": [],
   "source": [
    "class Car(object):\n",
    "    def __init__(self, env):\n",
    "        self.env = env\n",
    "        # Start the run process everytime an instance is created.\n",
    "        self.action = env.process(self.run())\n",
    "    \n",
    "    def run(self):\n",
    "        while True:\n",
    "            print('Start parking and charging at %d' % self.env.now)\n",
    "            charge_duration = 5\n",
    "            # We yield the process that process() returns\n",
    "            # to wait for it to finish\n",
    "            yield self.env.process(self.charge(charge_duration))\n",
    "\n",
    "            # The charge process has finished and\n",
    "            # we can start driving again.\n",
    "            print('Start driving at %d' % self.env.now)\n",
    "            trip_duration = 2\n",
    "            yield self.env.timeout(trip_duration)\n",
    "\n",
    "    def charge(self, duration):\n",
    "        yield self.env.timeout(duration)"
   ]
  },
  {
   "cell_type": "code",
   "execution_count": 26,
   "metadata": {},
   "outputs": [
    {
     "name": "stdout",
     "output_type": "stream",
     "text": [
      "Start parking and charging at 0\n",
      "Start driving at 5\n",
      "Start parking and charging at 7\n",
      "Start driving at 12\n",
      "Start parking and charging at 14\n"
     ]
    }
   ],
   "source": [
    "env = simpy.Environment()\n",
    "car = Car(env)\n",
    "env.run(until=15)"
   ]
  },
  {
   "cell_type": "code",
   "execution_count": 63,
   "metadata": {},
   "outputs": [
    {
     "name": "stdout",
     "output_type": "stream",
     "text": [
      "Service renege\n",
      " 0.0000 Customer00: Here I am\n",
      " 0.0000 Customer00: Waited  0.000\n",
      " 0.0640 Customer01: Here I am\n",
      " 6.4558 Customer01: RENEGED after  6.392\n",
      " 7.8621 Customer02: Here I am\n",
      " 8.7372 Customer00: Finished\n",
      " 8.7372 Customer02: Waited  0.875\n",
      "11.1109 Customer02: Finished\n",
      "13.3017 Customer03: Here I am\n",
      "13.3017 Customer03: Waited  0.000\n",
      "13.3913 Customer03: Finished\n",
      "24.7348 Customer04: Here I am\n",
      "24.7348 Customer04: Waited  0.000\n",
      "26.8569 Customer05: Here I am\n",
      "31.8613 Customer05: RENEGED after  5.004\n",
      "41.3877 Customer04: Finished\n",
      "50.9828 Customer06: Here I am\n",
      "50.9828 Customer06: Waited  0.000\n",
      "52.2530 Customer06: Finished\n",
      "66.1069 Customer07: Here I am\n",
      "66.1069 Customer07: Waited  0.000\n",
      "66.7430 Customer07: Finished\n",
      "68.2831 Customer08: Here I am\n",
      "68.2831 Customer08: Waited  0.000\n",
      "78.2318 Customer09: Here I am\n",
      "84.0996 Customer10: Here I am\n",
      "85.3344 Customer09: RENEGED after  7.103\n",
      "89.3543 Customer10: RENEGED after  5.255\n",
      "106.3326 Customer08: Finished\n",
      "113.4694 Customer11: Here I am\n",
      "113.4694 Customer11: Waited  0.000\n",
      "113.9326 Customer11: Finished\n",
      "114.6159 Customer12: Here I am\n",
      "114.6159 Customer12: Waited  0.000\n",
      "117.5011 Customer12: Finished\n",
      "119.1831 Customer13: Here I am\n",
      "119.1831 Customer13: Waited  0.000\n",
      "122.2099 Customer14: Here I am\n",
      "125.2723 Customer15: Here I am\n",
      "127.0847 Customer16: Here I am\n",
      "128.0257 Customer14: RENEGED after  5.816\n",
      "128.3636 Customer13: Finished\n",
      "128.3636 Customer15: Waited  3.091\n",
      "128.4359 Customer17: Here I am\n",
      "131.9696 Customer15: Finished\n",
      "131.9696 Customer16: Waited  4.885\n",
      "134.4941 Customer16: Finished\n",
      "134.4941 Customer17: Waited  6.058\n",
      "134.5776 Customer18: Here I am\n",
      "135.5995 Customer19: Here I am\n",
      "137.8356 Customer17: Finished\n",
      "137.8356 Customer18: Waited  3.258\n",
      "138.1505 Customer18: Finished\n",
      "138.1505 Customer19: Waited  2.551\n",
      "149.6069 Customer20: Here I am\n",
      "150.3720 Customer21: Here I am\n",
      "155.3515 Customer20: RENEGED after  5.745\n",
      "156.1355 Customer22: Here I am\n",
      "157.4036 Customer21: RENEGED after  7.032\n",
      "159.5876 Customer19: Finished\n",
      "159.5876 Customer22: Waited  3.452\n",
      "163.5266 Customer22: Finished\n",
      "193.5373 Customer23: Here I am\n",
      "193.5373 Customer23: Waited  0.000\n",
      "199.4408 Customer23: Finished\n",
      "204.5664 Customer24: Here I am\n",
      "204.5664 Customer24: Waited  0.000\n",
      "205.7711 Customer25: Here I am\n",
      "206.8918 Customer26: Here I am\n",
      "213.2421 Customer25: RENEGED after  7.471\n",
      "213.8258 Customer26: RENEGED after  6.934\n",
      "214.8522 Customer27: Here I am\n",
      "217.2483 Customer28: Here I am\n",
      "217.7815 Customer29: Here I am\n",
      "218.8845 Customer30: Here I am\n",
      "222.1068 Customer31: Here I am\n",
      "222.2905 Customer27: RENEGED after  7.438\n",
      "223.5781 Customer32: Here I am\n",
      "224.0126 Customer30: RENEGED after  5.128\n",
      "224.9558 Customer28: RENEGED after  7.707\n",
      "225.4967 Customer29: RENEGED after  7.715\n",
      "227.5983 Customer33: Here I am\n",
      "227.6995 Customer24: Finished\n",
      "227.6995 Customer31: Waited  5.593\n",
      "228.6665 Customer32: RENEGED after  5.088\n",
      "229.1160 Customer34: Here I am\n",
      "229.6908 Customer31: Finished\n",
      "229.6908 Customer33: Waited  2.092\n",
      "234.2200 Customer34: RENEGED after  5.104\n",
      "241.1138 Customer33: Finished\n",
      "246.3097 Customer35: Here I am\n",
      "246.3097 Customer35: Waited  0.000\n",
      "249.1074 Customer36: Here I am\n",
      "251.7329 Customer37: Here I am\n",
      "252.2763 Customer35: Finished\n",
      "252.2763 Customer36: Waited  3.169\n",
      "257.8653 Customer36: Finished\n",
      "257.8653 Customer37: Waited  6.132\n",
      "269.0114 Customer38: Here I am\n",
      "269.1989 Customer37: Finished\n",
      "269.1989 Customer38: Waited  0.187\n",
      "274.9596 Customer38: Finished\n",
      "\n",
      "Customers served: 24\n",
      "Customers lost: 15\n",
      "\n",
      "Average of time to be served: 1.72\n",
      "Average of patience time: 6.33\n",
      "\n",
      "Original Milestones of customers to arrive per day: 50\n",
      "Customers that arrived: 39\n"
     ]
    }
   ],
   "source": [
    "import random\n",
    "from statistics import mean\n",
    "\n",
    "NEW_CUSTOMERS = 50  # Total number of customers\n",
    "INTERVAL_CUSTOMERS = 8.0  # Generate new customers roughly every x minutes\n",
    "MIN_PATIENCE = 5  # Min. customer patience (minutes)\n",
    "MAX_PATIENCE = 8  # Max. customer patience (minutes)\n",
    "MIN_SERVICE_TIME = 5 #Min. time the customer may take to be served (minutes)\n",
    "MAX_SERVICE_TIME = 15 #Max. time the customer may take to be served (minutes)\n",
    "OPEN_SERVICE = 300 #Time the service is open for customers (minutes)\n",
    "MODULES = 1 #Amount of modules to serve customers\n",
    "\n",
    "time_patience_lost = []\n",
    "time_get_service = []\n",
    "\n",
    "def source(env, number, interval, module):\n",
    "    \"\"\"Source generates customers randomly\"\"\"\n",
    "    for i in range(number):\n",
    "        c = customer(env, 'Customer%02d' % i, module, time_in_bank = random.uniform(MIN_SERVICE_TIME, MAX_SERVICE_TIME), time_patience_lost = time_patience_lost, time_get_service = time_get_service)\n",
    "        env.process(c)\n",
    "        t = random.expovariate(1.0 / interval)\n",
    "        yield env.timeout(t)\n",
    "\n",
    "\n",
    "def customer(env, name, module, time_in_bank, time_patience_lost, time_get_service):\n",
    "    \"\"\"Customer arrives, is served and leaves.\"\"\"\n",
    "    arrive = env.now\n",
    "    print('%7.4f %s: Here I am' % (arrive, name))\n",
    "\n",
    "    with module.request() as req:\n",
    "        patience = random.uniform(MIN_PATIENCE, MAX_PATIENCE)\n",
    "        # Wait for the counter or abort at the end of our tether\n",
    "        results = yield req | env.timeout(patience)\n",
    "\n",
    "        wait = env.now - arrive\n",
    "\n",
    "        if req in results:\n",
    "            # We got to the counter\n",
    "            print('%7.4f %s: Waited %6.3f' % (env.now, name, wait))\n",
    "            time_get_service.append(wait)\n",
    "            \n",
    "            tib = random.expovariate(1.0 / time_in_bank)\n",
    "            yield env.timeout(tib)\n",
    "            print('%7.4f %s: Finished' % (env.now, name))\n",
    "            \n",
    "\n",
    "        else:\n",
    "            # We reneged\n",
    "            print('%7.4f %s: RENEGED after %6.3f' % (env.now, name, wait))\n",
    "            time_patience_lost.append(wait)\n",
    "\n",
    "# Setup and start the simulation\n",
    "print('Service renege')\n",
    "env = simpy.Environment()\n",
    "\n",
    "# Start processes and run\n",
    "module = simpy.Resource(env, capacity = MODULES)\n",
    "env.process(source(env, NEW_CUSTOMERS, INTERVAL_CUSTOMERS, module))\n",
    "env.run(until = OPEN_SERVICE)\n",
    "\n",
    "print(\"\\nCustomers served: \" + str(len(time_get_service)))\n",
    "print(\"Customers lost: \" + str(len(time_patience_lost)))\n",
    "\n",
    "print(\"\\nAverage of time to be served: \" + str(round(mean(time_get_service), 2)))\n",
    "print(\"Average of patience time: \" + str(round(mean(time_patience_lost), 2)))\n",
    "\n",
    "print(\"\\nOriginal Milestones of customers to arrive per day: \" + str(NEW_CUSTOMERS))\n",
    "print(\"Customers that arrived: \" + str(len(time_get_service) + len(time_patience_lost)))"
   ]
  },
  {
   "cell_type": "code",
   "execution_count": null,
   "metadata": {},
   "outputs": [],
   "source": []
  }
 ],
 "metadata": {
  "kernelspec": {
   "display_name": "Python 3",
   "language": "python",
   "name": "python3"
  },
  "language_info": {
   "codemirror_mode": {
    "name": "ipython",
    "version": 3
   },
   "file_extension": ".py",
   "mimetype": "text/x-python",
   "name": "python",
   "nbconvert_exporter": "python",
   "pygments_lexer": "ipython3",
   "version": "3.7.3"
  }
 },
 "nbformat": 4,
 "nbformat_minor": 2
}
